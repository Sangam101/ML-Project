{
 "cells": [
  {
   "cell_type": "markdown",
   "metadata": {
    "papermill": {
     "duration": 0.032551,
     "end_time": "2021-12-19T01:58:45.174106",
     "exception": false,
     "start_time": "2021-12-19T01:58:45.141555",
     "status": "completed"
    },
    "tags": []
   },
   "source": [
    "<h2>【0.860】TFIDF_Ridge_simple_baseline</h2>\n",
    "\n",
    "Data from [Toxic Comment Classification Challenge](https://www.kaggle.com/c/jigsaw-toxic-comment-classification-challenge)\n"
   ]
  },
  {
   "cell_type": "markdown",
   "metadata": {
    "papermill": {
     "duration": 0.028504,
     "end_time": "2021-12-19T01:58:45.232780",
     "exception": false,
     "start_time": "2021-12-19T01:58:45.204276",
     "status": "completed"
    },
    "tags": []
   },
   "source": [
    "# Import Library"
   ]
  },
  {
   "cell_type": "code",
   "execution_count": 1,
   "metadata": {
    "execution": {
     "iopub.execute_input": "2021-12-19T01:58:45.299404Z",
     "iopub.status.busy": "2021-12-19T01:58:45.298743Z",
     "iopub.status.idle": "2021-12-19T01:58:47.227491Z",
     "shell.execute_reply": "2021-12-19T01:58:47.226655Z",
     "shell.execute_reply.started": "2021-12-19T01:48:53.625375Z"
    },
    "papermill": {
     "duration": 1.965839,
     "end_time": "2021-12-19T01:58:47.227664",
     "exception": false,
     "start_time": "2021-12-19T01:58:45.261825",
     "status": "completed"
    },
    "tags": []
   },
   "outputs": [],
   "source": [
    "import pandas as pd\n",
    "import numpy as np\n",
    "from tqdm.auto import tqdm\n",
    "from bs4 import BeautifulSoup\n",
    "from collections import defaultdict\n",
    "from sklearn.feature_extraction.text import TfidfVectorizer, CountVectorizer\n",
    "\n",
    "import re \n",
    "import scipy\n",
    "from scipy import sparse\n",
    "\n",
    "from IPython.display import display\n",
    "from pprint import pprint\n",
    "from matplotlib import pyplot as plt \n",
    "\n",
    "import time\n",
    "import scipy.optimize as optimize\n",
    "import warnings\n",
    "warnings.filterwarnings(\"ignore\")\n",
    "pd.options.display.max_colwidth=300\n",
    "pd.options.display.max_columns = 100\n",
    "\n",
    "from sklearn.model_selection import train_test_split\n",
    "from nltk.tokenize import word_tokenize\n",
    "from sklearn.linear_model import Ridge"
   ]
  },
  {
   "cell_type": "markdown",
   "metadata": {
    "papermill": {
     "duration": 0.030705,
     "end_time": "2021-12-19T01:58:47.289604",
     "exception": false,
     "start_time": "2021-12-19T01:58:47.258899",
     "status": "completed"
    },
    "tags": []
   },
   "source": [
    "# Prepare train data"
   ]
  },
  {
   "cell_type": "code",
   "execution_count": 2,
   "metadata": {
    "execution": {
     "iopub.execute_input": "2021-12-19T01:58:47.352950Z",
     "iopub.status.busy": "2021-12-19T01:58:47.351889Z",
     "iopub.status.idle": "2021-12-19T01:58:49.514331Z",
     "shell.execute_reply": "2021-12-19T01:58:49.513757Z",
     "shell.execute_reply.started": "2021-12-19T01:48:55.485961Z"
    },
    "papermill": {
     "duration": 2.195228,
     "end_time": "2021-12-19T01:58:49.514471",
     "exception": false,
     "start_time": "2021-12-19T01:58:47.319243",
     "status": "completed"
    },
    "tags": []
   },
   "outputs": [],
   "source": [
    "df_train = pd.read_csv(\"../input/jigsaw-toxic-comment-classification-challenge/train.csv\")\n",
    "# df_test = pd.read_csv(\"../input/jigsaw-toxic-comment-classification-challenge/test.csv\")\n",
    "# df_test_label = pd.read_csv(\"../input/jigsaw-toxic-comment-classification-challenge/test_labels.csv\").replace(-1,0)\n",
    "df_sub = pd.read_csv(\"../input/jigsaw-toxic-severity-rating/comments_to_score.csv\")"
   ]
  },
  {
   "cell_type": "code",
   "execution_count": 3,
   "metadata": {
    "execution": {
     "iopub.execute_input": "2021-12-19T01:58:49.575123Z",
     "iopub.status.busy": "2021-12-19T01:58:49.574498Z",
     "iopub.status.idle": "2021-12-19T01:58:49.595047Z",
     "shell.execute_reply": "2021-12-19T01:58:49.594408Z",
     "shell.execute_reply.started": "2021-12-19T01:48:57.685201Z"
    },
    "papermill": {
     "duration": 0.051908,
     "end_time": "2021-12-19T01:58:49.595187",
     "exception": false,
     "start_time": "2021-12-19T01:58:49.543279",
     "status": "completed"
    },
    "tags": []
   },
   "outputs": [
    {
     "data": {
      "text/html": [
       "<div>\n",
       "<style scoped>\n",
       "    .dataframe tbody tr th:only-of-type {\n",
       "        vertical-align: middle;\n",
       "    }\n",
       "\n",
       "    .dataframe tbody tr th {\n",
       "        vertical-align: top;\n",
       "    }\n",
       "\n",
       "    .dataframe thead th {\n",
       "        text-align: right;\n",
       "    }\n",
       "</style>\n",
       "<table border=\"1\" class=\"dataframe\">\n",
       "  <thead>\n",
       "    <tr style=\"text-align: right;\">\n",
       "      <th></th>\n",
       "      <th>id</th>\n",
       "      <th>comment_text</th>\n",
       "      <th>toxic</th>\n",
       "      <th>severe_toxic</th>\n",
       "      <th>obscene</th>\n",
       "      <th>threat</th>\n",
       "      <th>insult</th>\n",
       "      <th>identity_hate</th>\n",
       "    </tr>\n",
       "  </thead>\n",
       "  <tbody>\n",
       "    <tr>\n",
       "      <th>0</th>\n",
       "      <td>0000997932d777bf</td>\n",
       "      <td>Explanation\\nWhy the edits made under my username Hardcore Metallica Fan were reverted? They weren't vandalisms, just closure on some GAs after I voted at New York Dolls FAC. And please don't remove the template from the talk page since I'm retired now.89.205.38.27</td>\n",
       "      <td>0</td>\n",
       "      <td>0</td>\n",
       "      <td>0</td>\n",
       "      <td>0</td>\n",
       "      <td>0</td>\n",
       "      <td>0</td>\n",
       "    </tr>\n",
       "    <tr>\n",
       "      <th>1</th>\n",
       "      <td>000103f0d9cfb60f</td>\n",
       "      <td>D'aww! He matches this background colour I'm seemingly stuck with. Thanks.  (talk) 21:51, January 11, 2016 (UTC)</td>\n",
       "      <td>0</td>\n",
       "      <td>0</td>\n",
       "      <td>0</td>\n",
       "      <td>0</td>\n",
       "      <td>0</td>\n",
       "      <td>0</td>\n",
       "    </tr>\n",
       "  </tbody>\n",
       "</table>\n",
       "</div>"
      ],
      "text/plain": [
       "                 id  \\\n",
       "0  0000997932d777bf   \n",
       "1  000103f0d9cfb60f   \n",
       "\n",
       "                                                                                                                                                                                                                                                                comment_text  \\\n",
       "0  Explanation\\nWhy the edits made under my username Hardcore Metallica Fan were reverted? They weren't vandalisms, just closure on some GAs after I voted at New York Dolls FAC. And please don't remove the template from the talk page since I'm retired now.89.205.38.27   \n",
       "1                                                                                                                                                           D'aww! He matches this background colour I'm seemingly stuck with. Thanks.  (talk) 21:51, January 11, 2016 (UTC)   \n",
       "\n",
       "   toxic  severe_toxic  obscene  threat  insult  identity_hate  \n",
       "0      0             0        0       0       0              0  \n",
       "1      0             0        0       0       0              0  "
      ]
     },
     "execution_count": 3,
     "metadata": {},
     "output_type": "execute_result"
    }
   ],
   "source": [
    "df_train.head(2)"
   ]
  },
  {
   "cell_type": "code",
   "execution_count": 4,
   "metadata": {
    "execution": {
     "iopub.execute_input": "2021-12-19T01:58:49.665658Z",
     "iopub.status.busy": "2021-12-19T01:58:49.664971Z",
     "iopub.status.idle": "2021-12-19T01:58:49.756506Z",
     "shell.execute_reply": "2021-12-19T01:58:49.757077Z",
     "shell.execute_reply.started": "2021-12-19T01:48:57.707517Z"
    },
    "papermill": {
     "duration": 0.131556,
     "end_time": "2021-12-19T01:58:49.757264",
     "exception": false,
     "start_time": "2021-12-19T01:58:49.625708",
     "status": "completed"
    },
    "tags": []
   },
   "outputs": [
    {
     "data": {
      "text/html": [
       "<div>\n",
       "<style scoped>\n",
       "    .dataframe tbody tr th:only-of-type {\n",
       "        vertical-align: middle;\n",
       "    }\n",
       "\n",
       "    .dataframe tbody tr th {\n",
       "        vertical-align: top;\n",
       "    }\n",
       "\n",
       "    .dataframe thead th {\n",
       "        text-align: right;\n",
       "    }\n",
       "</style>\n",
       "<table border=\"1\" class=\"dataframe\">\n",
       "  <thead>\n",
       "    <tr style=\"text-align: right;\">\n",
       "      <th></th>\n",
       "      <th>id</th>\n",
       "      <th>comment_text</th>\n",
       "      <th>toxic</th>\n",
       "      <th>severe_toxic</th>\n",
       "      <th>obscene</th>\n",
       "      <th>threat</th>\n",
       "      <th>insult</th>\n",
       "      <th>identity_hate</th>\n",
       "      <th>score</th>\n",
       "      <th>y</th>\n",
       "    </tr>\n",
       "  </thead>\n",
       "  <tbody>\n",
       "    <tr>\n",
       "      <th>6</th>\n",
       "      <td>0002bcb3da6cb337</td>\n",
       "      <td>COCKSUCKER BEFORE YOU PISS AROUND ON MY WORK</td>\n",
       "      <td>0.32</td>\n",
       "      <td>1.5</td>\n",
       "      <td>0.16</td>\n",
       "      <td>0.0</td>\n",
       "      <td>0.64</td>\n",
       "      <td>0.0</td>\n",
       "      <td>2.62</td>\n",
       "      <td>2.62</td>\n",
       "    </tr>\n",
       "    <tr>\n",
       "      <th>12</th>\n",
       "      <td>0005c987bdfc9d4b</td>\n",
       "      <td>Hey... what is it..\\n@ | talk .\\nWhat is it... an exclusive group of some WP TALIBANS...who are good at destroying, self-appointed purist who GANG UP any one who asks them questions abt their ANTI-SOCIAL and DESTRUCTIVE (non)-contribution at WP?\\n\\nAsk Sityush to clean up his behavior than issue...</td>\n",
       "      <td>0.32</td>\n",
       "      <td>0.0</td>\n",
       "      <td>0.00</td>\n",
       "      <td>0.0</td>\n",
       "      <td>0.00</td>\n",
       "      <td>0.0</td>\n",
       "      <td>0.32</td>\n",
       "      <td>0.32</td>\n",
       "    </tr>\n",
       "  </tbody>\n",
       "</table>\n",
       "</div>"
      ],
      "text/plain": [
       "                  id  \\\n",
       "6   0002bcb3da6cb337   \n",
       "12  0005c987bdfc9d4b   \n",
       "\n",
       "                                                                                                                                                                                                                                                                                                   comment_text  \\\n",
       "6                                                                                                                                                                                                                                                                  COCKSUCKER BEFORE YOU PISS AROUND ON MY WORK   \n",
       "12  Hey... what is it..\\n@ | talk .\\nWhat is it... an exclusive group of some WP TALIBANS...who are good at destroying, self-appointed purist who GANG UP any one who asks them questions abt their ANTI-SOCIAL and DESTRUCTIVE (non)-contribution at WP?\\n\\nAsk Sityush to clean up his behavior than issue...   \n",
       "\n",
       "    toxic  severe_toxic  obscene  threat  insult  identity_hate  score     y  \n",
       "6    0.32           1.5     0.16     0.0    0.64            0.0   2.62  2.62  \n",
       "12   0.32           0.0     0.00     0.0    0.00            0.0   0.32  0.32  "
      ]
     },
     "execution_count": 4,
     "metadata": {},
     "output_type": "execute_result"
    }
   ],
   "source": [
    "# Create a score that measure how much toxic is a comment\n",
    "cat_mtpl = {'obscene': 0.16, 'toxic': 0.32, 'threat': 1.5, \n",
    "            'insult': 0.64, 'severe_toxic': 1.5, 'identity_hate': 1.5}\n",
    "\n",
    "for category in cat_mtpl:\n",
    "    df_train[category] = df_train[category] * cat_mtpl[category]\n",
    "\n",
    "df_train['score'] = df_train.loc[:, 'toxic':'identity_hate'].sum(axis=1)\n",
    "\n",
    "df_train['y'] = df_train['score']\n",
    "\n",
    "min_len = (df_train['y'] > 0).sum()  # len of toxic comments\n",
    "df_y0_undersample = df_train[df_train['y'] == 0].sample(n=min_len, random_state=201)  # take non toxic comments\n",
    "df_train_new = pd.concat([df_train[df_train['y'] > 0], df_y0_undersample])  # make new df\n",
    "df_train_new.head(2)"
   ]
  },
  {
   "cell_type": "code",
   "execution_count": 5,
   "metadata": {
    "execution": {
     "iopub.execute_input": "2021-12-19T01:58:49.823530Z",
     "iopub.status.busy": "2021-12-19T01:58:49.822845Z",
     "iopub.status.idle": "2021-12-19T01:58:49.833939Z",
     "shell.execute_reply": "2021-12-19T01:58:49.834417Z",
     "shell.execute_reply.started": "2021-12-19T01:48:57.813892Z"
    },
    "papermill": {
     "duration": 0.046968,
     "end_time": "2021-12-19T01:58:49.834592",
     "exception": false,
     "start_time": "2021-12-19T01:58:49.787624",
     "status": "completed"
    },
    "tags": []
   },
   "outputs": [],
   "source": [
    "df_train = df_train.rename(columns={'comment_text':'text'})"
   ]
  },
  {
   "cell_type": "markdown",
   "metadata": {
    "papermill": {
     "duration": 0.029621,
     "end_time": "2021-12-19T01:58:49.893979",
     "exception": false,
     "start_time": "2021-12-19T01:58:49.864358",
     "status": "completed"
    },
    "tags": []
   },
   "source": [
    "<h3>Text Cleaning</h3>"
   ]
  },
  {
   "cell_type": "code",
   "execution_count": 6,
   "metadata": {
    "execution": {
     "iopub.execute_input": "2021-12-19T01:58:49.963588Z",
     "iopub.status.busy": "2021-12-19T01:58:49.962904Z",
     "iopub.status.idle": "2021-12-19T01:58:49.966145Z",
     "shell.execute_reply": "2021-12-19T01:58:49.965610Z",
     "shell.execute_reply.started": "2021-12-19T01:48:57.829687Z"
    },
    "papermill": {
     "duration": 0.041516,
     "end_time": "2021-12-19T01:58:49.966307",
     "exception": false,
     "start_time": "2021-12-19T01:58:49.924791",
     "status": "completed"
    },
    "tags": []
   },
   "outputs": [],
   "source": [
    "def text_cleaning(text):\n",
    "    '''\n",
    "    Cleans text into a basic form for NLP. Operations include the following:-\n",
    "    1. Remove special charecters like &, #, etc\n",
    "    2. Removes extra spaces\n",
    "    3. Removes embedded URL links\n",
    "    4. Removes HTML tags\n",
    "    5. Removes emojis\n",
    "    \n",
    "    text - Text piece to be cleaned.\n",
    "    '''\n",
    "    template = re.compile(r'https?://\\S+|www\\.\\S+') #Removes website links\n",
    "    text = template.sub(r'', text)\n",
    "    \n",
    "    soup = BeautifulSoup(text, 'lxml') #Removes HTML tags\n",
    "    only_text = soup.get_text()\n",
    "    text = only_text\n",
    "    \n",
    "    emoji_pattern = re.compile(\"[\"\n",
    "                               u\"\\U0001F600-\\U0001F64F\"  # emoticons\n",
    "                               u\"\\U0001F300-\\U0001F5FF\"  # symbols & pictographs\n",
    "                               u\"\\U0001F680-\\U0001F6FF\"  # transport & map symbols\n",
    "                               u\"\\U0001F1E0-\\U0001F1FF\"  # flags (iOS)\n",
    "                               u\"\\U00002702-\\U000027B0\"\n",
    "                               u\"\\U000024C2-\\U0001F251\"\n",
    "                               \"]+\", flags=re.UNICODE)\n",
    "    text = emoji_pattern.sub(r'', text)\n",
    "    \n",
    "    text = re.sub(r\"[^a-zA-Z\\d]\", \" \", text) #Remove special Charecters\n",
    "    text = re.sub(' +', ' ', text) #Remove Extra Spaces\n",
    "    text = text.strip() # remove spaces at the beginning and at the end of string\n",
    "\n",
    "    return text"
   ]
  },
  {
   "cell_type": "code",
   "execution_count": 7,
   "metadata": {
    "execution": {
     "iopub.execute_input": "2021-12-19T01:58:50.029713Z",
     "iopub.status.busy": "2021-12-19T01:58:50.028780Z",
     "iopub.status.idle": "2021-12-19T01:59:49.570282Z",
     "shell.execute_reply": "2021-12-19T01:59:49.569688Z",
     "shell.execute_reply.started": "2021-12-19T01:48:57.838719Z"
    },
    "papermill": {
     "duration": 59.574292,
     "end_time": "2021-12-19T01:59:49.570447",
     "exception": false,
     "start_time": "2021-12-19T01:58:49.996155",
     "status": "completed"
    },
    "tags": []
   },
   "outputs": [
    {
     "data": {
      "application/vnd.jupyter.widget-view+json": {
       "model_id": "49c9f19bf92e4fbc96e57fb2cc8768c8",
       "version_major": 2,
       "version_minor": 0
      },
      "text/plain": [
       "  0%|          | 0/159571 [00:00<?, ?it/s]"
      ]
     },
     "metadata": {},
     "output_type": "display_data"
    }
   ],
   "source": [
    "tqdm.pandas()\n",
    "df_train['text'] = df_train['text'].progress_apply(text_cleaning)"
   ]
  },
  {
   "cell_type": "code",
   "execution_count": 8,
   "metadata": {
    "execution": {
     "iopub.execute_input": "2021-12-19T01:59:49.639478Z",
     "iopub.status.busy": "2021-12-19T01:59:49.638180Z",
     "iopub.status.idle": "2021-12-19T01:59:49.658241Z",
     "shell.execute_reply": "2021-12-19T01:59:49.657450Z",
     "shell.execute_reply.started": "2021-12-19T01:49:48.921140Z"
    },
    "papermill": {
     "duration": 0.05603,
     "end_time": "2021-12-19T01:59:49.658439",
     "exception": false,
     "start_time": "2021-12-19T01:59:49.602409",
     "status": "completed"
    },
    "tags": []
   },
   "outputs": [],
   "source": [
    "df = df_train.copy()"
   ]
  },
  {
   "cell_type": "code",
   "execution_count": 9,
   "metadata": {
    "execution": {
     "iopub.execute_input": "2021-12-19T01:59:49.735028Z",
     "iopub.status.busy": "2021-12-19T01:59:49.734251Z",
     "iopub.status.idle": "2021-12-19T01:59:49.738743Z",
     "shell.execute_reply": "2021-12-19T01:59:49.738255Z",
     "shell.execute_reply.started": "2021-12-19T01:49:48.937506Z"
    },
    "papermill": {
     "duration": 0.048509,
     "end_time": "2021-12-19T01:59:49.738883",
     "exception": false,
     "start_time": "2021-12-19T01:59:49.690374",
     "status": "completed"
    },
    "tags": []
   },
   "outputs": [
    {
     "data": {
      "text/plain": [
       "0.00    143346\n",
       "0.32      5666\n",
       "1.12      3800\n",
       "0.48      1758\n",
       "2.62      1738\n",
       "0.96      1215\n",
       "4.12       385\n",
       "0.16       317\n",
       "0.64       301\n",
       "1.82       290\n",
       "1.98       204\n",
       "0.80       181\n",
       "2.46       164\n",
       "1.50        76\n",
       "2.14        31\n",
       "5.62        31\n",
       "3.32        21\n",
       "2.30        20\n",
       "3.48        10\n",
       "3.96        10\n",
       "1.66         5\n",
       "3.96         1\n",
       "4.82         1\n",
       "Name: y, dtype: int64"
      ]
     },
     "execution_count": 9,
     "metadata": {},
     "output_type": "execute_result"
    }
   ],
   "source": [
    "df['y'].value_counts()"
   ]
  },
  {
   "cell_type": "markdown",
   "metadata": {
    "papermill": {
     "duration": 0.031627,
     "end_time": "2021-12-19T01:59:49.801948",
     "exception": false,
     "start_time": "2021-12-19T01:59:49.770321",
     "status": "completed"
    },
    "tags": []
   },
   "source": [
    "# Undersampling"
   ]
  },
  {
   "cell_type": "code",
   "execution_count": 10,
   "metadata": {
    "execution": {
     "iopub.execute_input": "2021-12-19T01:59:49.870710Z",
     "iopub.status.busy": "2021-12-19T01:59:49.870008Z",
     "iopub.status.idle": "2021-12-19T01:59:49.875726Z",
     "shell.execute_reply": "2021-12-19T01:59:49.876261Z",
     "shell.execute_reply.started": "2021-12-19T01:49:48.952516Z"
    },
    "papermill": {
     "duration": 0.043246,
     "end_time": "2021-12-19T01:59:49.876436",
     "exception": false,
     "start_time": "2021-12-19T01:59:49.833190",
     "status": "completed"
    },
    "tags": []
   },
   "outputs": [
    {
     "data": {
      "text/plain": [
       "0.00    0.898321\n",
       "0.32    0.035508\n",
       "1.12    0.023814\n",
       "0.48    0.011017\n",
       "2.62    0.010892\n",
       "0.96    0.007614\n",
       "4.12    0.002413\n",
       "0.16    0.001987\n",
       "0.64    0.001886\n",
       "1.82    0.001817\n",
       "1.98    0.001278\n",
       "0.80    0.001134\n",
       "2.46    0.001028\n",
       "1.50    0.000476\n",
       "2.14    0.000194\n",
       "5.62    0.000194\n",
       "3.32    0.000132\n",
       "2.30    0.000125\n",
       "3.48    0.000063\n",
       "3.96    0.000063\n",
       "1.66    0.000031\n",
       "3.96    0.000006\n",
       "4.82    0.000006\n",
       "Name: y, dtype: float64"
      ]
     },
     "execution_count": 10,
     "metadata": {},
     "output_type": "execute_result"
    }
   ],
   "source": [
    "df['y'].value_counts(normalize=True)"
   ]
  },
  {
   "cell_type": "code",
   "execution_count": 11,
   "metadata": {
    "execution": {
     "iopub.execute_input": "2021-12-19T01:59:49.943878Z",
     "iopub.status.busy": "2021-12-19T01:59:49.943203Z",
     "iopub.status.idle": "2021-12-19T01:59:49.993168Z",
     "shell.execute_reply": "2021-12-19T01:59:49.993664Z",
     "shell.execute_reply.started": "2021-12-19T01:49:48.967255Z"
    },
    "papermill": {
     "duration": 0.085749,
     "end_time": "2021-12-19T01:59:49.993852",
     "exception": false,
     "start_time": "2021-12-19T01:59:49.908103",
     "status": "completed"
    },
    "tags": []
   },
   "outputs": [
    {
     "data": {
      "text/plain": [
       "0.00    16225\n",
       "0.32     5666\n",
       "1.12     3800\n",
       "0.48     1758\n",
       "2.62     1738\n",
       "0.96     1215\n",
       "4.12      385\n",
       "0.16      317\n",
       "0.64      301\n",
       "1.82      290\n",
       "1.98      204\n",
       "0.80      181\n",
       "2.46      164\n",
       "1.50       76\n",
       "5.62       31\n",
       "2.14       31\n",
       "3.32       21\n",
       "2.30       20\n",
       "3.48       10\n",
       "3.96       10\n",
       "1.66        5\n",
       "3.96        1\n",
       "4.82        1\n",
       "Name: y, dtype: int64"
      ]
     },
     "execution_count": 11,
     "metadata": {},
     "output_type": "execute_result"
    }
   ],
   "source": [
    "min_len = (df['y'] >= 0.1).sum()\n",
    "df_y0_undersample = df[df['y'] == 0].sample(n=min_len, random_state=201)\n",
    "df = pd.concat([df[df['y'] >= 0.1], df_y0_undersample])\n",
    "df['y'].value_counts()"
   ]
  },
  {
   "cell_type": "markdown",
   "metadata": {
    "papermill": {
     "duration": 0.031545,
     "end_time": "2021-12-19T01:59:50.056855",
     "exception": false,
     "start_time": "2021-12-19T01:59:50.025310",
     "status": "completed"
    },
    "tags": []
   },
   "source": [
    "# TF-IDF"
   ]
  },
  {
   "cell_type": "code",
   "execution_count": 12,
   "metadata": {
    "execution": {
     "iopub.execute_input": "2021-12-19T01:59:50.133855Z",
     "iopub.status.busy": "2021-12-19T01:59:50.133167Z",
     "iopub.status.idle": "2021-12-19T02:00:13.026054Z",
     "shell.execute_reply": "2021-12-19T02:00:13.025533Z",
     "shell.execute_reply.started": "2021-12-19T01:49:49.023576Z"
    },
    "papermill": {
     "duration": 22.938035,
     "end_time": "2021-12-19T02:00:13.026209",
     "exception": false,
     "start_time": "2021-12-19T01:59:50.088174",
     "status": "completed"
    },
    "tags": []
   },
   "outputs": [
    {
     "data": {
      "text/plain": [
       "<32450x86036 sparse matrix of type '<class 'numpy.float64'>'\n",
       "\twith 11962043 stored elements in Compressed Sparse Row format>"
      ]
     },
     "execution_count": 12,
     "metadata": {},
     "output_type": "execute_result"
    }
   ],
   "source": [
    "vec = TfidfVectorizer(min_df= 3, max_df=0.5, analyzer = 'char_wb', ngram_range = (3,5))\n",
    "X = vec.fit_transform(df['text'])\n",
    "X"
   ]
  },
  {
   "cell_type": "markdown",
   "metadata": {
    "papermill": {
     "duration": 0.031432,
     "end_time": "2021-12-19T02:00:13.089681",
     "exception": false,
     "start_time": "2021-12-19T02:00:13.058249",
     "status": "completed"
    },
    "tags": []
   },
   "source": [
    "<h1>Fit Ridge</h1>"
   ]
  },
  {
   "cell_type": "code",
   "execution_count": 13,
   "metadata": {
    "execution": {
     "iopub.execute_input": "2021-12-19T02:00:13.157074Z",
     "iopub.status.busy": "2021-12-19T02:00:13.156049Z",
     "iopub.status.idle": "2021-12-19T02:00:19.046907Z",
     "shell.execute_reply": "2021-12-19T02:00:19.047709Z",
     "shell.execute_reply.started": "2021-12-19T01:50:04.092197Z"
    },
    "papermill": {
     "duration": 5.926686,
     "end_time": "2021-12-19T02:00:19.047979",
     "exception": false,
     "start_time": "2021-12-19T02:00:13.121293",
     "status": "completed"
    },
    "tags": []
   },
   "outputs": [
    {
     "data": {
      "text/plain": [
       "Ridge(alpha=0.5)"
      ]
     },
     "execution_count": 13,
     "metadata": {},
     "output_type": "execute_result"
    }
   ],
   "source": [
    "model = Ridge(alpha=0.5)\n",
    "model.fit(X, df['y'])"
   ]
  },
  {
   "cell_type": "markdown",
   "metadata": {
    "papermill": {
     "duration": 0.054553,
     "end_time": "2021-12-19T02:00:19.162418",
     "exception": false,
     "start_time": "2021-12-19T02:00:19.107865",
     "status": "completed"
    },
    "tags": []
   },
   "source": [
    "# Prepare validation data"
   ]
  },
  {
   "cell_type": "code",
   "execution_count": 14,
   "metadata": {
    "execution": {
     "iopub.execute_input": "2021-12-19T02:00:19.232383Z",
     "iopub.status.busy": "2021-12-19T02:00:19.231671Z",
     "iopub.status.idle": "2021-12-19T02:00:19.865531Z",
     "shell.execute_reply": "2021-12-19T02:00:19.864952Z",
     "shell.execute_reply.started": "2021-12-19T01:50:10.422611Z"
    },
    "papermill": {
     "duration": 0.670965,
     "end_time": "2021-12-19T02:00:19.865702",
     "exception": false,
     "start_time": "2021-12-19T02:00:19.194737",
     "status": "completed"
    },
    "tags": []
   },
   "outputs": [],
   "source": [
    "df_val = pd.read_csv(\"../input/jigsaw-toxic-severity-rating/validation_data.csv\")"
   ]
  },
  {
   "cell_type": "code",
   "execution_count": 15,
   "metadata": {
    "execution": {
     "iopub.execute_input": "2021-12-19T02:00:19.941242Z",
     "iopub.status.busy": "2021-12-19T02:00:19.940393Z",
     "iopub.status.idle": "2021-12-19T02:00:19.943771Z",
     "shell.execute_reply": "2021-12-19T02:00:19.944280Z",
     "shell.execute_reply.started": "2021-12-19T01:50:10.991592Z"
    },
    "papermill": {
     "duration": 0.046402,
     "end_time": "2021-12-19T02:00:19.944451",
     "exception": false,
     "start_time": "2021-12-19T02:00:19.898049",
     "status": "completed"
    },
    "tags": []
   },
   "outputs": [
    {
     "data": {
      "text/html": [
       "<div>\n",
       "<style scoped>\n",
       "    .dataframe tbody tr th:only-of-type {\n",
       "        vertical-align: middle;\n",
       "    }\n",
       "\n",
       "    .dataframe tbody tr th {\n",
       "        vertical-align: top;\n",
       "    }\n",
       "\n",
       "    .dataframe thead th {\n",
       "        text-align: right;\n",
       "    }\n",
       "</style>\n",
       "<table border=\"1\" class=\"dataframe\">\n",
       "  <thead>\n",
       "    <tr style=\"text-align: right;\">\n",
       "      <th></th>\n",
       "      <th>worker</th>\n",
       "      <th>less_toxic</th>\n",
       "      <th>more_toxic</th>\n",
       "    </tr>\n",
       "  </thead>\n",
       "  <tbody>\n",
       "    <tr>\n",
       "      <th>0</th>\n",
       "      <td>313</td>\n",
       "      <td>This article sucks \\n\\nwoo woo wooooooo</td>\n",
       "      <td>WHAT!!!!!!!!?!?!!?!?!!?!?!?!?!!!!!!!!!!!!!!!!!!!!!!!!??????????????????????????????????????????????????????!!!!!!=\\nWHER IS YOUR SEXY PIC GONE FROM YOUR MAIN PAGE???????? put it back</td>\n",
       "    </tr>\n",
       "    <tr>\n",
       "      <th>1</th>\n",
       "      <td>188</td>\n",
       "      <td>\"And yes, people should recognize that but they usually don't. One of the first objections you hear directed at someone who says he favors free markets is invariably \"\"There's no such thing as a free market.\"\" Ridiculously trivial. \"</td>\n",
       "      <td>Daphne Guinness \\n\\nTop of the mornin' my favourite Alien Life Form. I'm sorry, I can't marry you because you are a poor commoner so, therefore, unimportant. Can I have my dresses back. I hope your fat Oirish arse hasn't stretched them.</td>\n",
       "    </tr>\n",
       "    <tr>\n",
       "      <th>2</th>\n",
       "      <td>82</td>\n",
       "      <td>Western Media?\\n\\nYup, because every crime in the entire world is caused by the west.  Racists.</td>\n",
       "      <td>\"Atom you don't believe actual photos of masturbation is sexually explicit photos. I am sorry to say they are sexually explicit and so you said yourself that the disclaimer is used for that purpose. Also, Wikipedia itself is targeted for minors. In addition, you say that Wikipedia does not have ...</td>\n",
       "    </tr>\n",
       "    <tr>\n",
       "      <th>3</th>\n",
       "      <td>347</td>\n",
       "      <td>And you removed it! You numbskull! I don't care what you say anymore, this is my life! Go ahead with your own life, leave me alone! —</td>\n",
       "      <td>You seem to have sand in your vagina.\\n\\nMight want to wash that stinking hole out, bitch.</td>\n",
       "    </tr>\n",
       "    <tr>\n",
       "      <th>4</th>\n",
       "      <td>539</td>\n",
       "      <td>smelly vagina \\n\\nBluerasberry why don't you be a model for a cheesy blue vagina syndrome. A lot are experiencing this vaginal disease.</td>\n",
       "      <td>hey \\n\\nway to support nazis, you racist</td>\n",
       "    </tr>\n",
       "  </tbody>\n",
       "</table>\n",
       "</div>"
      ],
      "text/plain": [
       "   worker  \\\n",
       "0     313   \n",
       "1     188   \n",
       "2      82   \n",
       "3     347   \n",
       "4     539   \n",
       "\n",
       "                                                                                                                                                                                                                                  less_toxic  \\\n",
       "0                                                                                                                                                                                                    This article sucks \\n\\nwoo woo wooooooo   \n",
       "1  \"And yes, people should recognize that but they usually don't. One of the first objections you hear directed at someone who says he favors free markets is invariably \"\"There's no such thing as a free market.\"\" Ridiculously trivial. \"   \n",
       "2                                                                                                                                         Western Media?\\n\\nYup, because every crime in the entire world is caused by the west.  Racists.      \n",
       "3                                                                                                     And you removed it! You numbskull! I don't care what you say anymore, this is my life! Go ahead with your own life, leave me alone! —    \n",
       "4                                                                                                    smelly vagina \\n\\nBluerasberry why don't you be a model for a cheesy blue vagina syndrome. A lot are experiencing this vaginal disease.   \n",
       "\n",
       "                                                                                                                                                                                                                                                                                                    more_toxic  \n",
       "0                                                                                                                       WHAT!!!!!!!!?!?!!?!?!!?!?!?!?!!!!!!!!!!!!!!!!!!!!!!!!??????????????????????????????????????????????????????!!!!!!=\\nWHER IS YOUR SEXY PIC GONE FROM YOUR MAIN PAGE???????? put it back  \n",
       "1                                                                 Daphne Guinness \\n\\nTop of the mornin' my favourite Alien Life Form. I'm sorry, I can't marry you because you are a poor commoner so, therefore, unimportant. Can I have my dresses back. I hope your fat Oirish arse hasn't stretched them.  \n",
       "2  \"Atom you don't believe actual photos of masturbation is sexually explicit photos. I am sorry to say they are sexually explicit and so you said yourself that the disclaimer is used for that purpose. Also, Wikipedia itself is targeted for minors. In addition, you say that Wikipedia does not have ...  \n",
       "3                                                                                                                                                                                                                   You seem to have sand in your vagina.\\n\\nMight want to wash that stinking hole out, bitch.  \n",
       "4                                                                                                                                                                                                                                                                     hey \\n\\nway to support nazis, you racist  "
      ]
     },
     "execution_count": 15,
     "metadata": {},
     "output_type": "execute_result"
    }
   ],
   "source": [
    "df_val.head()"
   ]
  },
  {
   "cell_type": "markdown",
   "metadata": {
    "papermill": {
     "duration": 0.031975,
     "end_time": "2021-12-19T02:00:20.010278",
     "exception": false,
     "start_time": "2021-12-19T02:00:19.978303",
     "status": "completed"
    },
    "tags": []
   },
   "source": [
    "<h2>Text cleaning</h2>"
   ]
  },
  {
   "cell_type": "code",
   "execution_count": 16,
   "metadata": {
    "execution": {
     "iopub.execute_input": "2021-12-19T02:00:20.166687Z",
     "iopub.status.busy": "2021-12-19T02:00:20.165921Z",
     "iopub.status.idle": "2021-12-19T02:00:43.037353Z",
     "shell.execute_reply": "2021-12-19T02:00:43.036678Z",
     "shell.execute_reply.started": "2021-12-19T01:50:11.003421Z"
    },
    "papermill": {
     "duration": 22.994544,
     "end_time": "2021-12-19T02:00:43.037502",
     "exception": false,
     "start_time": "2021-12-19T02:00:20.042958",
     "status": "completed"
    },
    "tags": []
   },
   "outputs": [
    {
     "data": {
      "application/vnd.jupyter.widget-view+json": {
       "model_id": "2740a06f4d1f400190ad3bcc70ef4d8c",
       "version_major": 2,
       "version_minor": 0
      },
      "text/plain": [
       "  0%|          | 0/30108 [00:00<?, ?it/s]"
      ]
     },
     "metadata": {},
     "output_type": "display_data"
    },
    {
     "data": {
      "application/vnd.jupyter.widget-view+json": {
       "model_id": "e69d4db66dde4d819f0a19bde3e14552",
       "version_major": 2,
       "version_minor": 0
      },
      "text/plain": [
       "  0%|          | 0/30108 [00:00<?, ?it/s]"
      ]
     },
     "metadata": {},
     "output_type": "display_data"
    }
   ],
   "source": [
    "tqdm.pandas()\n",
    "df_val['less_toxic'] = df_val['less_toxic'].progress_apply(text_cleaning)\n",
    "df_val['more_toxic'] = df_val['more_toxic'].progress_apply(text_cleaning)"
   ]
  },
  {
   "cell_type": "code",
   "execution_count": 17,
   "metadata": {
    "execution": {
     "iopub.execute_input": "2021-12-19T02:00:43.119490Z",
     "iopub.status.busy": "2021-12-19T02:00:43.114198Z",
     "iopub.status.idle": "2021-12-19T02:01:32.020524Z",
     "shell.execute_reply": "2021-12-19T02:01:32.019953Z",
     "shell.execute_reply.started": "2021-12-19T01:50:30.530030Z"
    },
    "papermill": {
     "duration": 48.948924,
     "end_time": "2021-12-19T02:01:32.020675",
     "exception": false,
     "start_time": "2021-12-19T02:00:43.071751",
     "status": "completed"
    },
    "tags": []
   },
   "outputs": [],
   "source": [
    "X_less_toxic = vec.transform(df_val['less_toxic'])\n",
    "X_more_toxic = vec.transform(df_val['more_toxic'])"
   ]
  },
  {
   "cell_type": "code",
   "execution_count": 18,
   "metadata": {
    "execution": {
     "iopub.execute_input": "2021-12-19T02:01:32.093467Z",
     "iopub.status.busy": "2021-12-19T02:01:32.092777Z",
     "iopub.status.idle": "2021-12-19T02:01:32.164526Z",
     "shell.execute_reply": "2021-12-19T02:01:32.163974Z",
     "shell.execute_reply.started": "2021-12-19T01:51:03.068749Z"
    },
    "papermill": {
     "duration": 0.110018,
     "end_time": "2021-12-19T02:01:32.164672",
     "exception": false,
     "start_time": "2021-12-19T02:01:32.054654",
     "status": "completed"
    },
    "tags": []
   },
   "outputs": [],
   "source": [
    "p1 = model.predict(X_less_toxic)\n",
    "p2 = model.predict(X_more_toxic)"
   ]
  },
  {
   "cell_type": "code",
   "execution_count": 19,
   "metadata": {
    "execution": {
     "iopub.execute_input": "2021-12-19T02:01:32.235897Z",
     "iopub.status.busy": "2021-12-19T02:01:32.235288Z",
     "iopub.status.idle": "2021-12-19T02:01:32.240078Z",
     "shell.execute_reply": "2021-12-19T02:01:32.240625Z",
     "shell.execute_reply.started": "2021-12-19T01:51:03.142546Z"
    },
    "papermill": {
     "duration": 0.042224,
     "end_time": "2021-12-19T02:01:32.240796",
     "exception": false,
     "start_time": "2021-12-19T02:01:32.198572",
     "status": "completed"
    },
    "tags": []
   },
   "outputs": [
    {
     "data": {
      "text/plain": [
       "0.6706855320844958"
      ]
     },
     "execution_count": 19,
     "metadata": {},
     "output_type": "execute_result"
    }
   ],
   "source": [
    "# Validation Accuracy\n",
    "(p1 < p2).mean()"
   ]
  },
  {
   "cell_type": "markdown",
   "metadata": {
    "papermill": {
     "duration": 0.034003,
     "end_time": "2021-12-19T02:01:32.309823",
     "exception": false,
     "start_time": "2021-12-19T02:01:32.275820",
     "status": "completed"
    },
    "tags": []
   },
   "source": [
    "# Prepare submission data "
   ]
  },
  {
   "cell_type": "code",
   "execution_count": 20,
   "metadata": {
    "execution": {
     "iopub.execute_input": "2021-12-19T02:01:32.381245Z",
     "iopub.status.busy": "2021-12-19T02:01:32.380613Z",
     "iopub.status.idle": "2021-12-19T02:01:32.436082Z",
     "shell.execute_reply": "2021-12-19T02:01:32.436582Z",
     "shell.execute_reply.started": "2021-12-19T01:51:03.149207Z"
    },
    "papermill": {
     "duration": 0.092778,
     "end_time": "2021-12-19T02:01:32.436764",
     "exception": false,
     "start_time": "2021-12-19T02:01:32.343986",
     "status": "completed"
    },
    "tags": []
   },
   "outputs": [],
   "source": [
    "df_sub = pd.read_csv(\"../input/jigsaw-toxic-severity-rating/comments_to_score.csv\")\n"
   ]
  },
  {
   "cell_type": "markdown",
   "metadata": {
    "papermill": {
     "duration": 0.033798,
     "end_time": "2021-12-19T02:01:32.505051",
     "exception": false,
     "start_time": "2021-12-19T02:01:32.471253",
     "status": "completed"
    },
    "tags": []
   },
   "source": [
    "<h2>Text cleaning</h2>"
   ]
  },
  {
   "cell_type": "code",
   "execution_count": 21,
   "metadata": {
    "execution": {
     "iopub.execute_input": "2021-12-19T02:01:32.577428Z",
     "iopub.status.busy": "2021-12-19T02:01:32.576697Z",
     "iopub.status.idle": "2021-12-19T02:01:35.520669Z",
     "shell.execute_reply": "2021-12-19T02:01:35.520156Z",
     "shell.execute_reply.started": "2021-12-19T01:51:03.211690Z"
    },
    "papermill": {
     "duration": 2.981741,
     "end_time": "2021-12-19T02:01:35.520812",
     "exception": false,
     "start_time": "2021-12-19T02:01:32.539071",
     "status": "completed"
    },
    "tags": []
   },
   "outputs": [
    {
     "data": {
      "application/vnd.jupyter.widget-view+json": {
       "model_id": "bd6c88361812470f941f9b30614608e5",
       "version_major": 2,
       "version_minor": 0
      },
      "text/plain": [
       "  0%|          | 0/7537 [00:00<?, ?it/s]"
      ]
     },
     "metadata": {},
     "output_type": "display_data"
    }
   ],
   "source": [
    "tqdm.pandas()\n",
    "df_sub['text'] = df_sub['text'].progress_apply(text_cleaning)"
   ]
  },
  {
   "cell_type": "markdown",
   "metadata": {
    "papermill": {
     "duration": 0.034677,
     "end_time": "2021-12-19T02:01:35.590460",
     "exception": false,
     "start_time": "2021-12-19T02:01:35.555783",
     "status": "completed"
    },
    "tags": []
   },
   "source": [
    "<h2>Prediction</h2>"
   ]
  },
  {
   "cell_type": "code",
   "execution_count": 22,
   "metadata": {
    "execution": {
     "iopub.execute_input": "2021-12-19T02:01:35.714464Z",
     "iopub.status.busy": "2021-12-19T02:01:35.693678Z",
     "iopub.status.idle": "2021-12-19T02:01:42.047165Z",
     "shell.execute_reply": "2021-12-19T02:01:42.046629Z",
     "shell.execute_reply.started": "2021-12-19T01:51:05.732096Z"
    },
    "papermill": {
     "duration": 6.42225,
     "end_time": "2021-12-19T02:01:42.047354",
     "exception": false,
     "start_time": "2021-12-19T02:01:35.625104",
     "status": "completed"
    },
    "tags": []
   },
   "outputs": [],
   "source": [
    "X_test = vec.transform(df_sub['text'])\n",
    "p3 = model.predict(X_test)"
   ]
  },
  {
   "cell_type": "code",
   "execution_count": 23,
   "metadata": {
    "execution": {
     "iopub.execute_input": "2021-12-19T02:01:42.120554Z",
     "iopub.status.busy": "2021-12-19T02:01:42.119587Z",
     "iopub.status.idle": "2021-12-19T02:01:42.123817Z",
     "shell.execute_reply": "2021-12-19T02:01:42.124324Z",
     "shell.execute_reply.started": "2021-12-19T01:51:10.027744Z"
    },
    "papermill": {
     "duration": 0.042346,
     "end_time": "2021-12-19T02:01:42.124490",
     "exception": false,
     "start_time": "2021-12-19T02:01:42.082144",
     "status": "completed"
    },
    "tags": []
   },
   "outputs": [],
   "source": [
    "df_sub['score'] = p3"
   ]
  },
  {
   "cell_type": "code",
   "execution_count": 24,
   "metadata": {
    "execution": {
     "iopub.execute_input": "2021-12-19T02:01:42.197955Z",
     "iopub.status.busy": "2021-12-19T02:01:42.197040Z",
     "iopub.status.idle": "2021-12-19T02:01:42.202515Z",
     "shell.execute_reply": "2021-12-19T02:01:42.202981Z",
     "shell.execute_reply.started": "2021-12-19T01:51:10.034376Z"
    },
    "papermill": {
     "duration": 0.043511,
     "end_time": "2021-12-19T02:01:42.203152",
     "exception": false,
     "start_time": "2021-12-19T02:01:42.159641",
     "status": "completed"
    },
    "tags": []
   },
   "outputs": [
    {
     "data": {
      "text/plain": [
       "7537"
      ]
     },
     "execution_count": 24,
     "metadata": {},
     "output_type": "execute_result"
    }
   ],
   "source": [
    "df_sub['score'].count()"
   ]
  },
  {
   "cell_type": "code",
   "execution_count": 25,
   "metadata": {
    "execution": {
     "iopub.execute_input": "2021-12-19T02:01:42.277935Z",
     "iopub.status.busy": "2021-12-19T02:01:42.277202Z",
     "iopub.status.idle": "2021-12-19T02:01:42.279821Z",
     "shell.execute_reply": "2021-12-19T02:01:42.279318Z",
     "shell.execute_reply.started": "2021-12-19T01:51:10.049163Z"
    },
    "papermill": {
     "duration": 0.04217,
     "end_time": "2021-12-19T02:01:42.279973",
     "exception": false,
     "start_time": "2021-12-19T02:01:42.237803",
     "status": "completed"
    },
    "tags": []
   },
   "outputs": [],
   "source": [
    "df_sub['score'] = df_sub['score'] "
   ]
  },
  {
   "cell_type": "code",
   "execution_count": 26,
   "metadata": {
    "execution": {
     "iopub.execute_input": "2021-12-19T02:01:42.356816Z",
     "iopub.status.busy": "2021-12-19T02:01:42.356099Z",
     "iopub.status.idle": "2021-12-19T02:01:42.360808Z",
     "shell.execute_reply": "2021-12-19T02:01:42.360330Z",
     "shell.execute_reply.started": "2021-12-19T01:51:10.059975Z"
    },
    "papermill": {
     "duration": 0.045049,
     "end_time": "2021-12-19T02:01:42.360941",
     "exception": false,
     "start_time": "2021-12-19T02:01:42.315892",
     "status": "completed"
    },
    "tags": []
   },
   "outputs": [
    {
     "data": {
      "text/plain": [
       "7516"
      ]
     },
     "execution_count": 26,
     "metadata": {},
     "output_type": "execute_result"
    }
   ],
   "source": [
    "# 9 comments will fail if compared one with the other\n",
    "df_sub['score'].nunique()"
   ]
  },
  {
   "cell_type": "markdown",
   "metadata": {
    "papermill": {
     "duration": 0.035167,
     "end_time": "2021-12-19T02:01:42.431748",
     "exception": false,
     "start_time": "2021-12-19T02:01:42.396581",
     "status": "completed"
    },
    "tags": []
   },
   "source": [
    "<h2>Prepare submission file</h2>"
   ]
  },
  {
   "cell_type": "code",
   "execution_count": 27,
   "metadata": {
    "execution": {
     "iopub.execute_input": "2021-12-19T02:01:42.509733Z",
     "iopub.status.busy": "2021-12-19T02:01:42.508826Z",
     "iopub.status.idle": "2021-12-19T02:01:42.543980Z",
     "shell.execute_reply": "2021-12-19T02:01:42.544590Z",
     "shell.execute_reply.started": "2021-12-19T01:51:10.074501Z"
    },
    "papermill": {
     "duration": 0.077206,
     "end_time": "2021-12-19T02:01:42.544769",
     "exception": false,
     "start_time": "2021-12-19T02:01:42.467563",
     "status": "completed"
    },
    "tags": []
   },
   "outputs": [],
   "source": [
    "df_sub[['comment_id', 'score']].to_csv(\"submission.csv\", index=False)"
   ]
  },
  {
   "cell_type": "code",
   "execution_count": null,
   "metadata": {
    "papermill": {
     "duration": 0.0349,
     "end_time": "2021-12-19T02:01:42.615197",
     "exception": false,
     "start_time": "2021-12-19T02:01:42.580297",
     "status": "completed"
    },
    "tags": []
   },
   "outputs": [],
   "source": []
  }
 ],
 "metadata": {
  "kernelspec": {
   "display_name": "Python 3",
   "language": "python",
   "name": "python3"
  },
  "language_info": {
   "codemirror_mode": {
    "name": "ipython",
    "version": 3
   },
   "file_extension": ".py",
   "mimetype": "text/x-python",
   "name": "python",
   "nbconvert_exporter": "python",
   "pygments_lexer": "ipython3",
   "version": "3.7.4"
  },
  "papermill": {
   "default_parameters": {},
   "duration": 187.805684,
   "end_time": "2021-12-19T02:01:43.466813",
   "environment_variables": {},
   "exception": null,
   "input_path": "__notebook__.ipynb",
   "output_path": "__notebook__.ipynb",
   "parameters": {},
   "start_time": "2021-12-19T01:58:35.661129",
   "version": "2.3.3"
  },
  "widgets": {
   "application/vnd.jupyter.widget-state+json": {
    "state": {
     "0245d169bba54170aa1516a75c7279b6": {
      "model_module": "@jupyter-widgets/controls",
      "model_module_version": "1.5.0",
      "model_name": "FloatProgressModel",
      "state": {
       "_dom_classes": [],
       "_model_module": "@jupyter-widgets/controls",
       "_model_module_version": "1.5.0",
       "_model_name": "FloatProgressModel",
       "_view_count": null,
       "_view_module": "@jupyter-widgets/controls",
       "_view_module_version": "1.5.0",
       "_view_name": "ProgressView",
       "bar_style": "success",
       "description": "",
       "description_tooltip": null,
       "layout": "IPY_MODEL_302f1e32869b4a809598a54e361389db",
       "max": 30108,
       "min": 0,
       "orientation": "horizontal",
       "style": "IPY_MODEL_628799cb4f5d447ea7f678af706c38f5",
       "value": 30108
      }
     },
     "03d7ee5a237044aa8cec6ea55210782f": {
      "model_module": "@jupyter-widgets/base",
      "model_module_version": "1.2.0",
      "model_name": "LayoutModel",
      "state": {
       "_model_module": "@jupyter-widgets/base",
       "_model_module_version": "1.2.0",
       "_model_name": "LayoutModel",
       "_view_count": null,
       "_view_module": "@jupyter-widgets/base",
       "_view_module_version": "1.2.0",
       "_view_name": "LayoutView",
       "align_content": null,
       "align_items": null,
       "align_self": null,
       "border": null,
       "bottom": null,
       "display": null,
       "flex": null,
       "flex_flow": null,
       "grid_area": null,
       "grid_auto_columns": null,
       "grid_auto_flow": null,
       "grid_auto_rows": null,
       "grid_column": null,
       "grid_gap": null,
       "grid_row": null,
       "grid_template_areas": null,
       "grid_template_columns": null,
       "grid_template_rows": null,
       "height": null,
       "justify_content": null,
       "justify_items": null,
       "left": null,
       "margin": null,
       "max_height": null,
       "max_width": null,
       "min_height": null,
       "min_width": null,
       "object_fit": null,
       "object_position": null,
       "order": null,
       "overflow": null,
       "overflow_x": null,
       "overflow_y": null,
       "padding": null,
       "right": null,
       "top": null,
       "visibility": null,
       "width": null
      }
     },
     "048f5893d49c43549c8cd94e46d6dff2": {
      "model_module": "@jupyter-widgets/controls",
      "model_module_version": "1.5.0",
      "model_name": "DescriptionStyleModel",
      "state": {
       "_model_module": "@jupyter-widgets/controls",
       "_model_module_version": "1.5.0",
       "_model_name": "DescriptionStyleModel",
       "_view_count": null,
       "_view_module": "@jupyter-widgets/base",
       "_view_module_version": "1.2.0",
       "_view_name": "StyleView",
       "description_width": ""
      }
     },
     "0830ff24e94f4dc9ae9547a3c6afa7f2": {
      "model_module": "@jupyter-widgets/controls",
      "model_module_version": "1.5.0",
      "model_name": "DescriptionStyleModel",
      "state": {
       "_model_module": "@jupyter-widgets/controls",
       "_model_module_version": "1.5.0",
       "_model_name": "DescriptionStyleModel",
       "_view_count": null,
       "_view_module": "@jupyter-widgets/base",
       "_view_module_version": "1.2.0",
       "_view_name": "StyleView",
       "description_width": ""
      }
     },
     "0e8c5354f6694b03836eb76f1b5d5859": {
      "model_module": "@jupyter-widgets/controls",
      "model_module_version": "1.5.0",
      "model_name": "DescriptionStyleModel",
      "state": {
       "_model_module": "@jupyter-widgets/controls",
       "_model_module_version": "1.5.0",
       "_model_name": "DescriptionStyleModel",
       "_view_count": null,
       "_view_module": "@jupyter-widgets/base",
       "_view_module_version": "1.2.0",
       "_view_name": "StyleView",
       "description_width": ""
      }
     },
     "19e8204b7918431983376b91ae0d98f9": {
      "model_module": "@jupyter-widgets/base",
      "model_module_version": "1.2.0",
      "model_name": "LayoutModel",
      "state": {
       "_model_module": "@jupyter-widgets/base",
       "_model_module_version": "1.2.0",
       "_model_name": "LayoutModel",
       "_view_count": null,
       "_view_module": "@jupyter-widgets/base",
       "_view_module_version": "1.2.0",
       "_view_name": "LayoutView",
       "align_content": null,
       "align_items": null,
       "align_self": null,
       "border": null,
       "bottom": null,
       "display": null,
       "flex": null,
       "flex_flow": null,
       "grid_area": null,
       "grid_auto_columns": null,
       "grid_auto_flow": null,
       "grid_auto_rows": null,
       "grid_column": null,
       "grid_gap": null,
       "grid_row": null,
       "grid_template_areas": null,
       "grid_template_columns": null,
       "grid_template_rows": null,
       "height": null,
       "justify_content": null,
       "justify_items": null,
       "left": null,
       "margin": null,
       "max_height": null,
       "max_width": null,
       "min_height": null,
       "min_width": null,
       "object_fit": null,
       "object_position": null,
       "order": null,
       "overflow": null,
       "overflow_x": null,
       "overflow_y": null,
       "padding": null,
       "right": null,
       "top": null,
       "visibility": null,
       "width": null
      }
     },
     "1f2edff7ef17496188a1f74f6f9d4829": {
      "model_module": "@jupyter-widgets/base",
      "model_module_version": "1.2.0",
      "model_name": "LayoutModel",
      "state": {
       "_model_module": "@jupyter-widgets/base",
       "_model_module_version": "1.2.0",
       "_model_name": "LayoutModel",
       "_view_count": null,
       "_view_module": "@jupyter-widgets/base",
       "_view_module_version": "1.2.0",
       "_view_name": "LayoutView",
       "align_content": null,
       "align_items": null,
       "align_self": null,
       "border": null,
       "bottom": null,
       "display": null,
       "flex": null,
       "flex_flow": null,
       "grid_area": null,
       "grid_auto_columns": null,
       "grid_auto_flow": null,
       "grid_auto_rows": null,
       "grid_column": null,
       "grid_gap": null,
       "grid_row": null,
       "grid_template_areas": null,
       "grid_template_columns": null,
       "grid_template_rows": null,
       "height": null,
       "justify_content": null,
       "justify_items": null,
       "left": null,
       "margin": null,
       "max_height": null,
       "max_width": null,
       "min_height": null,
       "min_width": null,
       "object_fit": null,
       "object_position": null,
       "order": null,
       "overflow": null,
       "overflow_x": null,
       "overflow_y": null,
       "padding": null,
       "right": null,
       "top": null,
       "visibility": null,
       "width": null
      }
     },
     "2740a06f4d1f400190ad3bcc70ef4d8c": {
      "model_module": "@jupyter-widgets/controls",
      "model_module_version": "1.5.0",
      "model_name": "HBoxModel",
      "state": {
       "_dom_classes": [],
       "_model_module": "@jupyter-widgets/controls",
       "_model_module_version": "1.5.0",
       "_model_name": "HBoxModel",
       "_view_count": null,
       "_view_module": "@jupyter-widgets/controls",
       "_view_module_version": "1.5.0",
       "_view_name": "HBoxView",
       "box_style": "",
       "children": [
        "IPY_MODEL_feb96d83050c4e8e8adb65c9c29c32b6",
        "IPY_MODEL_f83f8e452bd74834a8c5eea553b94eea",
        "IPY_MODEL_4ffa594395b7452d84170ec4dabe46e5"
       ],
       "layout": "IPY_MODEL_64344867450e4dd0b78d4ad42ba40cb6"
      }
     },
     "2740e475ee9f42c5982862924c3a6517": {
      "model_module": "@jupyter-widgets/controls",
      "model_module_version": "1.5.0",
      "model_name": "FloatProgressModel",
      "state": {
       "_dom_classes": [],
       "_model_module": "@jupyter-widgets/controls",
       "_model_module_version": "1.5.0",
       "_model_name": "FloatProgressModel",
       "_view_count": null,
       "_view_module": "@jupyter-widgets/controls",
       "_view_module_version": "1.5.0",
       "_view_name": "ProgressView",
       "bar_style": "success",
       "description": "",
       "description_tooltip": null,
       "layout": "IPY_MODEL_f719fd0bbba5411493c90d610e217db0",
       "max": 159571,
       "min": 0,
       "orientation": "horizontal",
       "style": "IPY_MODEL_2f8af3744c93424d95bf56bf3ebfd3c4",
       "value": 159571
      }
     },
     "2f8af3744c93424d95bf56bf3ebfd3c4": {
      "model_module": "@jupyter-widgets/controls",
      "model_module_version": "1.5.0",
      "model_name": "ProgressStyleModel",
      "state": {
       "_model_module": "@jupyter-widgets/controls",
       "_model_module_version": "1.5.0",
       "_model_name": "ProgressStyleModel",
       "_view_count": null,
       "_view_module": "@jupyter-widgets/base",
       "_view_module_version": "1.2.0",
       "_view_name": "StyleView",
       "bar_color": null,
       "description_width": ""
      }
     },
     "302f1e32869b4a809598a54e361389db": {
      "model_module": "@jupyter-widgets/base",
      "model_module_version": "1.2.0",
      "model_name": "LayoutModel",
      "state": {
       "_model_module": "@jupyter-widgets/base",
       "_model_module_version": "1.2.0",
       "_model_name": "LayoutModel",
       "_view_count": null,
       "_view_module": "@jupyter-widgets/base",
       "_view_module_version": "1.2.0",
       "_view_name": "LayoutView",
       "align_content": null,
       "align_items": null,
       "align_self": null,
       "border": null,
       "bottom": null,
       "display": null,
       "flex": null,
       "flex_flow": null,
       "grid_area": null,
       "grid_auto_columns": null,
       "grid_auto_flow": null,
       "grid_auto_rows": null,
       "grid_column": null,
       "grid_gap": null,
       "grid_row": null,
       "grid_template_areas": null,
       "grid_template_columns": null,
       "grid_template_rows": null,
       "height": null,
       "justify_content": null,
       "justify_items": null,
       "left": null,
       "margin": null,
       "max_height": null,
       "max_width": null,
       "min_height": null,
       "min_width": null,
       "object_fit": null,
       "object_position": null,
       "order": null,
       "overflow": null,
       "overflow_x": null,
       "overflow_y": null,
       "padding": null,
       "right": null,
       "top": null,
       "visibility": null,
       "width": null
      }
     },
     "308a3fa1402d49288899829e4a24edc2": {
      "model_module": "@jupyter-widgets/controls",
      "model_module_version": "1.5.0",
      "model_name": "DescriptionStyleModel",
      "state": {
       "_model_module": "@jupyter-widgets/controls",
       "_model_module_version": "1.5.0",
       "_model_name": "DescriptionStyleModel",
       "_view_count": null,
       "_view_module": "@jupyter-widgets/base",
       "_view_module_version": "1.2.0",
       "_view_name": "StyleView",
       "description_width": ""
      }
     },
     "3373ef61a90947798fffc73aa9797932": {
      "model_module": "@jupyter-widgets/controls",
      "model_module_version": "1.5.0",
      "model_name": "DescriptionStyleModel",
      "state": {
       "_model_module": "@jupyter-widgets/controls",
       "_model_module_version": "1.5.0",
       "_model_name": "DescriptionStyleModel",
       "_view_count": null,
       "_view_module": "@jupyter-widgets/base",
       "_view_module_version": "1.2.0",
       "_view_name": "StyleView",
       "description_width": ""
      }
     },
     "3383063068b940279a6cfd7f3406bee0": {
      "model_module": "@jupyter-widgets/controls",
      "model_module_version": "1.5.0",
      "model_name": "DescriptionStyleModel",
      "state": {
       "_model_module": "@jupyter-widgets/controls",
       "_model_module_version": "1.5.0",
       "_model_name": "DescriptionStyleModel",
       "_view_count": null,
       "_view_module": "@jupyter-widgets/base",
       "_view_module_version": "1.2.0",
       "_view_name": "StyleView",
       "description_width": ""
      }
     },
     "339b12f489e7489c90cdca40e09ab989": {
      "model_module": "@jupyter-widgets/base",
      "model_module_version": "1.2.0",
      "model_name": "LayoutModel",
      "state": {
       "_model_module": "@jupyter-widgets/base",
       "_model_module_version": "1.2.0",
       "_model_name": "LayoutModel",
       "_view_count": null,
       "_view_module": "@jupyter-widgets/base",
       "_view_module_version": "1.2.0",
       "_view_name": "LayoutView",
       "align_content": null,
       "align_items": null,
       "align_self": null,
       "border": null,
       "bottom": null,
       "display": null,
       "flex": null,
       "flex_flow": null,
       "grid_area": null,
       "grid_auto_columns": null,
       "grid_auto_flow": null,
       "grid_auto_rows": null,
       "grid_column": null,
       "grid_gap": null,
       "grid_row": null,
       "grid_template_areas": null,
       "grid_template_columns": null,
       "grid_template_rows": null,
       "height": null,
       "justify_content": null,
       "justify_items": null,
       "left": null,
       "margin": null,
       "max_height": null,
       "max_width": null,
       "min_height": null,
       "min_width": null,
       "object_fit": null,
       "object_position": null,
       "order": null,
       "overflow": null,
       "overflow_x": null,
       "overflow_y": null,
       "padding": null,
       "right": null,
       "top": null,
       "visibility": null,
       "width": null
      }
     },
     "35d8a71eca11499999b7496c06721cea": {
      "model_module": "@jupyter-widgets/controls",
      "model_module_version": "1.5.0",
      "model_name": "HTMLModel",
      "state": {
       "_dom_classes": [],
       "_model_module": "@jupyter-widgets/controls",
       "_model_module_version": "1.5.0",
       "_model_name": "HTMLModel",
       "_view_count": null,
       "_view_module": "@jupyter-widgets/controls",
       "_view_module_version": "1.5.0",
       "_view_name": "HTMLView",
       "description": "",
       "description_tooltip": null,
       "layout": "IPY_MODEL_1f2edff7ef17496188a1f74f6f9d4829",
       "placeholder": "​",
       "style": "IPY_MODEL_048f5893d49c43549c8cd94e46d6dff2",
       "value": " 7537/7537 [00:02&lt;00:00, 2649.77it/s]"
      }
     },
     "49c9f19bf92e4fbc96e57fb2cc8768c8": {
      "model_module": "@jupyter-widgets/controls",
      "model_module_version": "1.5.0",
      "model_name": "HBoxModel",
      "state": {
       "_dom_classes": [],
       "_model_module": "@jupyter-widgets/controls",
       "_model_module_version": "1.5.0",
       "_model_name": "HBoxModel",
       "_view_count": null,
       "_view_module": "@jupyter-widgets/controls",
       "_view_module_version": "1.5.0",
       "_view_name": "HBoxView",
       "box_style": "",
       "children": [
        "IPY_MODEL_d168c24dc7ce4f359a1cc8fa60a9d971",
        "IPY_MODEL_2740e475ee9f42c5982862924c3a6517",
        "IPY_MODEL_ec5f21b864f94204932473449f0f110f"
       ],
       "layout": "IPY_MODEL_b972b54ee6b84fe78d7222923768d108"
      }
     },
     "4ffa594395b7452d84170ec4dabe46e5": {
      "model_module": "@jupyter-widgets/controls",
      "model_module_version": "1.5.0",
      "model_name": "HTMLModel",
      "state": {
       "_dom_classes": [],
       "_model_module": "@jupyter-widgets/controls",
       "_model_module_version": "1.5.0",
       "_model_name": "HTMLModel",
       "_view_count": null,
       "_view_module": "@jupyter-widgets/controls",
       "_view_module_version": "1.5.0",
       "_view_name": "HTMLView",
       "description": "",
       "description_tooltip": null,
       "layout": "IPY_MODEL_339b12f489e7489c90cdca40e09ab989",
       "placeholder": "​",
       "style": "IPY_MODEL_0830ff24e94f4dc9ae9547a3c6afa7f2",
       "value": " 30108/30108 [00:11&lt;00:00, 2660.67it/s]"
      }
     },
     "5ace5b40cf534ef091ef3f13cd0c7afd": {
      "model_module": "@jupyter-widgets/controls",
      "model_module_version": "1.5.0",
      "model_name": "HTMLModel",
      "state": {
       "_dom_classes": [],
       "_model_module": "@jupyter-widgets/controls",
       "_model_module_version": "1.5.0",
       "_model_name": "HTMLModel",
       "_view_count": null,
       "_view_module": "@jupyter-widgets/controls",
       "_view_module_version": "1.5.0",
       "_view_name": "HTMLView",
       "description": "",
       "description_tooltip": null,
       "layout": "IPY_MODEL_c023c705c6ac433982b276636c0a7b63",
       "placeholder": "​",
       "style": "IPY_MODEL_0e8c5354f6694b03836eb76f1b5d5859",
       "value": "100%"
      }
     },
     "628799cb4f5d447ea7f678af706c38f5": {
      "model_module": "@jupyter-widgets/controls",
      "model_module_version": "1.5.0",
      "model_name": "ProgressStyleModel",
      "state": {
       "_model_module": "@jupyter-widgets/controls",
       "_model_module_version": "1.5.0",
       "_model_name": "ProgressStyleModel",
       "_view_count": null,
       "_view_module": "@jupyter-widgets/base",
       "_view_module_version": "1.2.0",
       "_view_name": "StyleView",
       "bar_color": null,
       "description_width": ""
      }
     },
     "637e7197320443f09b42eea97efcbaf5": {
      "model_module": "@jupyter-widgets/base",
      "model_module_version": "1.2.0",
      "model_name": "LayoutModel",
      "state": {
       "_model_module": "@jupyter-widgets/base",
       "_model_module_version": "1.2.0",
       "_model_name": "LayoutModel",
       "_view_count": null,
       "_view_module": "@jupyter-widgets/base",
       "_view_module_version": "1.2.0",
       "_view_name": "LayoutView",
       "align_content": null,
       "align_items": null,
       "align_self": null,
       "border": null,
       "bottom": null,
       "display": null,
       "flex": null,
       "flex_flow": null,
       "grid_area": null,
       "grid_auto_columns": null,
       "grid_auto_flow": null,
       "grid_auto_rows": null,
       "grid_column": null,
       "grid_gap": null,
       "grid_row": null,
       "grid_template_areas": null,
       "grid_template_columns": null,
       "grid_template_rows": null,
       "height": null,
       "justify_content": null,
       "justify_items": null,
       "left": null,
       "margin": null,
       "max_height": null,
       "max_width": null,
       "min_height": null,
       "min_width": null,
       "object_fit": null,
       "object_position": null,
       "order": null,
       "overflow": null,
       "overflow_x": null,
       "overflow_y": null,
       "padding": null,
       "right": null,
       "top": null,
       "visibility": null,
       "width": null
      }
     },
     "64344867450e4dd0b78d4ad42ba40cb6": {
      "model_module": "@jupyter-widgets/base",
      "model_module_version": "1.2.0",
      "model_name": "LayoutModel",
      "state": {
       "_model_module": "@jupyter-widgets/base",
       "_model_module_version": "1.2.0",
       "_model_name": "LayoutModel",
       "_view_count": null,
       "_view_module": "@jupyter-widgets/base",
       "_view_module_version": "1.2.0",
       "_view_name": "LayoutView",
       "align_content": null,
       "align_items": null,
       "align_self": null,
       "border": null,
       "bottom": null,
       "display": null,
       "flex": null,
       "flex_flow": null,
       "grid_area": null,
       "grid_auto_columns": null,
       "grid_auto_flow": null,
       "grid_auto_rows": null,
       "grid_column": null,
       "grid_gap": null,
       "grid_row": null,
       "grid_template_areas": null,
       "grid_template_columns": null,
       "grid_template_rows": null,
       "height": null,
       "justify_content": null,
       "justify_items": null,
       "left": null,
       "margin": null,
       "max_height": null,
       "max_width": null,
       "min_height": null,
       "min_width": null,
       "object_fit": null,
       "object_position": null,
       "order": null,
       "overflow": null,
       "overflow_x": null,
       "overflow_y": null,
       "padding": null,
       "right": null,
       "top": null,
       "visibility": null,
       "width": null
      }
     },
     "816ffd59c4564ff491e39ad6f715177d": {
      "model_module": "@jupyter-widgets/controls",
      "model_module_version": "1.5.0",
      "model_name": "DescriptionStyleModel",
      "state": {
       "_model_module": "@jupyter-widgets/controls",
       "_model_module_version": "1.5.0",
       "_model_name": "DescriptionStyleModel",
       "_view_count": null,
       "_view_module": "@jupyter-widgets/base",
       "_view_module_version": "1.2.0",
       "_view_name": "StyleView",
       "description_width": ""
      }
     },
     "85da8fa5893b417c9c74864c8a821f0e": {
      "model_module": "@jupyter-widgets/base",
      "model_module_version": "1.2.0",
      "model_name": "LayoutModel",
      "state": {
       "_model_module": "@jupyter-widgets/base",
       "_model_module_version": "1.2.0",
       "_model_name": "LayoutModel",
       "_view_count": null,
       "_view_module": "@jupyter-widgets/base",
       "_view_module_version": "1.2.0",
       "_view_name": "LayoutView",
       "align_content": null,
       "align_items": null,
       "align_self": null,
       "border": null,
       "bottom": null,
       "display": null,
       "flex": null,
       "flex_flow": null,
       "grid_area": null,
       "grid_auto_columns": null,
       "grid_auto_flow": null,
       "grid_auto_rows": null,
       "grid_column": null,
       "grid_gap": null,
       "grid_row": null,
       "grid_template_areas": null,
       "grid_template_columns": null,
       "grid_template_rows": null,
       "height": null,
       "justify_content": null,
       "justify_items": null,
       "left": null,
       "margin": null,
       "max_height": null,
       "max_width": null,
       "min_height": null,
       "min_width": null,
       "object_fit": null,
       "object_position": null,
       "order": null,
       "overflow": null,
       "overflow_x": null,
       "overflow_y": null,
       "padding": null,
       "right": null,
       "top": null,
       "visibility": null,
       "width": null
      }
     },
     "86a2fb21b7a5445b8a3e652b0c5926ff": {
      "model_module": "@jupyter-widgets/base",
      "model_module_version": "1.2.0",
      "model_name": "LayoutModel",
      "state": {
       "_model_module": "@jupyter-widgets/base",
       "_model_module_version": "1.2.0",
       "_model_name": "LayoutModel",
       "_view_count": null,
       "_view_module": "@jupyter-widgets/base",
       "_view_module_version": "1.2.0",
       "_view_name": "LayoutView",
       "align_content": null,
       "align_items": null,
       "align_self": null,
       "border": null,
       "bottom": null,
       "display": null,
       "flex": null,
       "flex_flow": null,
       "grid_area": null,
       "grid_auto_columns": null,
       "grid_auto_flow": null,
       "grid_auto_rows": null,
       "grid_column": null,
       "grid_gap": null,
       "grid_row": null,
       "grid_template_areas": null,
       "grid_template_columns": null,
       "grid_template_rows": null,
       "height": null,
       "justify_content": null,
       "justify_items": null,
       "left": null,
       "margin": null,
       "max_height": null,
       "max_width": null,
       "min_height": null,
       "min_width": null,
       "object_fit": null,
       "object_position": null,
       "order": null,
       "overflow": null,
       "overflow_x": null,
       "overflow_y": null,
       "padding": null,
       "right": null,
       "top": null,
       "visibility": null,
       "width": null
      }
     },
     "8d9aab3a13dc48c18cd3d8acee20a776": {
      "model_module": "@jupyter-widgets/controls",
      "model_module_version": "1.5.0",
      "model_name": "ProgressStyleModel",
      "state": {
       "_model_module": "@jupyter-widgets/controls",
       "_model_module_version": "1.5.0",
       "_model_name": "ProgressStyleModel",
       "_view_count": null,
       "_view_module": "@jupyter-widgets/base",
       "_view_module_version": "1.2.0",
       "_view_name": "StyleView",
       "bar_color": null,
       "description_width": ""
      }
     },
     "904982f9501b4c54a7f1ddfd524cbcec": {
      "model_module": "@jupyter-widgets/controls",
      "model_module_version": "1.5.0",
      "model_name": "DescriptionStyleModel",
      "state": {
       "_model_module": "@jupyter-widgets/controls",
       "_model_module_version": "1.5.0",
       "_model_name": "DescriptionStyleModel",
       "_view_count": null,
       "_view_module": "@jupyter-widgets/base",
       "_view_module_version": "1.2.0",
       "_view_name": "StyleView",
       "description_width": ""
      }
     },
     "94cc79fe71bd4c759b672cd9c45c1358": {
      "model_module": "@jupyter-widgets/controls",
      "model_module_version": "1.5.0",
      "model_name": "FloatProgressModel",
      "state": {
       "_dom_classes": [],
       "_model_module": "@jupyter-widgets/controls",
       "_model_module_version": "1.5.0",
       "_model_name": "FloatProgressModel",
       "_view_count": null,
       "_view_module": "@jupyter-widgets/controls",
       "_view_module_version": "1.5.0",
       "_view_name": "ProgressView",
       "bar_style": "success",
       "description": "",
       "description_tooltip": null,
       "layout": "IPY_MODEL_85da8fa5893b417c9c74864c8a821f0e",
       "max": 7537,
       "min": 0,
       "orientation": "horizontal",
       "style": "IPY_MODEL_8d9aab3a13dc48c18cd3d8acee20a776",
       "value": 7537
      }
     },
     "986eaa67e94f4f5cbde9eb3430937e29": {
      "model_module": "@jupyter-widgets/controls",
      "model_module_version": "1.5.0",
      "model_name": "HTMLModel",
      "state": {
       "_dom_classes": [],
       "_model_module": "@jupyter-widgets/controls",
       "_model_module_version": "1.5.0",
       "_model_name": "HTMLModel",
       "_view_count": null,
       "_view_module": "@jupyter-widgets/controls",
       "_view_module_version": "1.5.0",
       "_view_name": "HTMLView",
       "description": "",
       "description_tooltip": null,
       "layout": "IPY_MODEL_da957a49426741fa9f8dd23825fd18b6",
       "placeholder": "​",
       "style": "IPY_MODEL_3373ef61a90947798fffc73aa9797932",
       "value": " 30108/30108 [00:11&lt;00:00, 2712.40it/s]"
      }
     },
     "a29ceb9655cf4aca8211995be8c6f6cd": {
      "model_module": "@jupyter-widgets/base",
      "model_module_version": "1.2.0",
      "model_name": "LayoutModel",
      "state": {
       "_model_module": "@jupyter-widgets/base",
       "_model_module_version": "1.2.0",
       "_model_name": "LayoutModel",
       "_view_count": null,
       "_view_module": "@jupyter-widgets/base",
       "_view_module_version": "1.2.0",
       "_view_name": "LayoutView",
       "align_content": null,
       "align_items": null,
       "align_self": null,
       "border": null,
       "bottom": null,
       "display": null,
       "flex": null,
       "flex_flow": null,
       "grid_area": null,
       "grid_auto_columns": null,
       "grid_auto_flow": null,
       "grid_auto_rows": null,
       "grid_column": null,
       "grid_gap": null,
       "grid_row": null,
       "grid_template_areas": null,
       "grid_template_columns": null,
       "grid_template_rows": null,
       "height": null,
       "justify_content": null,
       "justify_items": null,
       "left": null,
       "margin": null,
       "max_height": null,
       "max_width": null,
       "min_height": null,
       "min_width": null,
       "object_fit": null,
       "object_position": null,
       "order": null,
       "overflow": null,
       "overflow_x": null,
       "overflow_y": null,
       "padding": null,
       "right": null,
       "top": null,
       "visibility": null,
       "width": null
      }
     },
     "b1237d795845407395e92a966232fb73": {
      "model_module": "@jupyter-widgets/base",
      "model_module_version": "1.2.0",
      "model_name": "LayoutModel",
      "state": {
       "_model_module": "@jupyter-widgets/base",
       "_model_module_version": "1.2.0",
       "_model_name": "LayoutModel",
       "_view_count": null,
       "_view_module": "@jupyter-widgets/base",
       "_view_module_version": "1.2.0",
       "_view_name": "LayoutView",
       "align_content": null,
       "align_items": null,
       "align_self": null,
       "border": null,
       "bottom": null,
       "display": null,
       "flex": null,
       "flex_flow": null,
       "grid_area": null,
       "grid_auto_columns": null,
       "grid_auto_flow": null,
       "grid_auto_rows": null,
       "grid_column": null,
       "grid_gap": null,
       "grid_row": null,
       "grid_template_areas": null,
       "grid_template_columns": null,
       "grid_template_rows": null,
       "height": null,
       "justify_content": null,
       "justify_items": null,
       "left": null,
       "margin": null,
       "max_height": null,
       "max_width": null,
       "min_height": null,
       "min_width": null,
       "object_fit": null,
       "object_position": null,
       "order": null,
       "overflow": null,
       "overflow_x": null,
       "overflow_y": null,
       "padding": null,
       "right": null,
       "top": null,
       "visibility": null,
       "width": null
      }
     },
     "b404d5e69e5444de92e8e21048a20da7": {
      "model_module": "@jupyter-widgets/controls",
      "model_module_version": "1.5.0",
      "model_name": "ProgressStyleModel",
      "state": {
       "_model_module": "@jupyter-widgets/controls",
       "_model_module_version": "1.5.0",
       "_model_name": "ProgressStyleModel",
       "_view_count": null,
       "_view_module": "@jupyter-widgets/base",
       "_view_module_version": "1.2.0",
       "_view_name": "StyleView",
       "bar_color": null,
       "description_width": ""
      }
     },
     "b972b54ee6b84fe78d7222923768d108": {
      "model_module": "@jupyter-widgets/base",
      "model_module_version": "1.2.0",
      "model_name": "LayoutModel",
      "state": {
       "_model_module": "@jupyter-widgets/base",
       "_model_module_version": "1.2.0",
       "_model_name": "LayoutModel",
       "_view_count": null,
       "_view_module": "@jupyter-widgets/base",
       "_view_module_version": "1.2.0",
       "_view_name": "LayoutView",
       "align_content": null,
       "align_items": null,
       "align_self": null,
       "border": null,
       "bottom": null,
       "display": null,
       "flex": null,
       "flex_flow": null,
       "grid_area": null,
       "grid_auto_columns": null,
       "grid_auto_flow": null,
       "grid_auto_rows": null,
       "grid_column": null,
       "grid_gap": null,
       "grid_row": null,
       "grid_template_areas": null,
       "grid_template_columns": null,
       "grid_template_rows": null,
       "height": null,
       "justify_content": null,
       "justify_items": null,
       "left": null,
       "margin": null,
       "max_height": null,
       "max_width": null,
       "min_height": null,
       "min_width": null,
       "object_fit": null,
       "object_position": null,
       "order": null,
       "overflow": null,
       "overflow_x": null,
       "overflow_y": null,
       "padding": null,
       "right": null,
       "top": null,
       "visibility": null,
       "width": null
      }
     },
     "bd6c88361812470f941f9b30614608e5": {
      "model_module": "@jupyter-widgets/controls",
      "model_module_version": "1.5.0",
      "model_name": "HBoxModel",
      "state": {
       "_dom_classes": [],
       "_model_module": "@jupyter-widgets/controls",
       "_model_module_version": "1.5.0",
       "_model_name": "HBoxModel",
       "_view_count": null,
       "_view_module": "@jupyter-widgets/controls",
       "_view_module_version": "1.5.0",
       "_view_name": "HBoxView",
       "box_style": "",
       "children": [
        "IPY_MODEL_5ace5b40cf534ef091ef3f13cd0c7afd",
        "IPY_MODEL_94cc79fe71bd4c759b672cd9c45c1358",
        "IPY_MODEL_35d8a71eca11499999b7496c06721cea"
       ],
       "layout": "IPY_MODEL_86a2fb21b7a5445b8a3e652b0c5926ff"
      }
     },
     "c023c705c6ac433982b276636c0a7b63": {
      "model_module": "@jupyter-widgets/base",
      "model_module_version": "1.2.0",
      "model_name": "LayoutModel",
      "state": {
       "_model_module": "@jupyter-widgets/base",
       "_model_module_version": "1.2.0",
       "_model_name": "LayoutModel",
       "_view_count": null,
       "_view_module": "@jupyter-widgets/base",
       "_view_module_version": "1.2.0",
       "_view_name": "LayoutView",
       "align_content": null,
       "align_items": null,
       "align_self": null,
       "border": null,
       "bottom": null,
       "display": null,
       "flex": null,
       "flex_flow": null,
       "grid_area": null,
       "grid_auto_columns": null,
       "grid_auto_flow": null,
       "grid_auto_rows": null,
       "grid_column": null,
       "grid_gap": null,
       "grid_row": null,
       "grid_template_areas": null,
       "grid_template_columns": null,
       "grid_template_rows": null,
       "height": null,
       "justify_content": null,
       "justify_items": null,
       "left": null,
       "margin": null,
       "max_height": null,
       "max_width": null,
       "min_height": null,
       "min_width": null,
       "object_fit": null,
       "object_position": null,
       "order": null,
       "overflow": null,
       "overflow_x": null,
       "overflow_y": null,
       "padding": null,
       "right": null,
       "top": null,
       "visibility": null,
       "width": null
      }
     },
     "c130cc807dea4c1394ffa4cb9eb0826d": {
      "model_module": "@jupyter-widgets/controls",
      "model_module_version": "1.5.0",
      "model_name": "HTMLModel",
      "state": {
       "_dom_classes": [],
       "_model_module": "@jupyter-widgets/controls",
       "_model_module_version": "1.5.0",
       "_model_name": "HTMLModel",
       "_view_count": null,
       "_view_module": "@jupyter-widgets/controls",
       "_view_module_version": "1.5.0",
       "_view_name": "HTMLView",
       "description": "",
       "description_tooltip": null,
       "layout": "IPY_MODEL_fc18628c4eb34a139ea4dc443f0e9ec0",
       "placeholder": "​",
       "style": "IPY_MODEL_3383063068b940279a6cfd7f3406bee0",
       "value": "100%"
      }
     },
     "d168c24dc7ce4f359a1cc8fa60a9d971": {
      "model_module": "@jupyter-widgets/controls",
      "model_module_version": "1.5.0",
      "model_name": "HTMLModel",
      "state": {
       "_dom_classes": [],
       "_model_module": "@jupyter-widgets/controls",
       "_model_module_version": "1.5.0",
       "_model_name": "HTMLModel",
       "_view_count": null,
       "_view_module": "@jupyter-widgets/controls",
       "_view_module_version": "1.5.0",
       "_view_name": "HTMLView",
       "description": "",
       "description_tooltip": null,
       "layout": "IPY_MODEL_637e7197320443f09b42eea97efcbaf5",
       "placeholder": "​",
       "style": "IPY_MODEL_308a3fa1402d49288899829e4a24edc2",
       "value": "100%"
      }
     },
     "da957a49426741fa9f8dd23825fd18b6": {
      "model_module": "@jupyter-widgets/base",
      "model_module_version": "1.2.0",
      "model_name": "LayoutModel",
      "state": {
       "_model_module": "@jupyter-widgets/base",
       "_model_module_version": "1.2.0",
       "_model_name": "LayoutModel",
       "_view_count": null,
       "_view_module": "@jupyter-widgets/base",
       "_view_module_version": "1.2.0",
       "_view_name": "LayoutView",
       "align_content": null,
       "align_items": null,
       "align_self": null,
       "border": null,
       "bottom": null,
       "display": null,
       "flex": null,
       "flex_flow": null,
       "grid_area": null,
       "grid_auto_columns": null,
       "grid_auto_flow": null,
       "grid_auto_rows": null,
       "grid_column": null,
       "grid_gap": null,
       "grid_row": null,
       "grid_template_areas": null,
       "grid_template_columns": null,
       "grid_template_rows": null,
       "height": null,
       "justify_content": null,
       "justify_items": null,
       "left": null,
       "margin": null,
       "max_height": null,
       "max_width": null,
       "min_height": null,
       "min_width": null,
       "object_fit": null,
       "object_position": null,
       "order": null,
       "overflow": null,
       "overflow_x": null,
       "overflow_y": null,
       "padding": null,
       "right": null,
       "top": null,
       "visibility": null,
       "width": null
      }
     },
     "e69d4db66dde4d819f0a19bde3e14552": {
      "model_module": "@jupyter-widgets/controls",
      "model_module_version": "1.5.0",
      "model_name": "HBoxModel",
      "state": {
       "_dom_classes": [],
       "_model_module": "@jupyter-widgets/controls",
       "_model_module_version": "1.5.0",
       "_model_name": "HBoxModel",
       "_view_count": null,
       "_view_module": "@jupyter-widgets/controls",
       "_view_module_version": "1.5.0",
       "_view_name": "HBoxView",
       "box_style": "",
       "children": [
        "IPY_MODEL_c130cc807dea4c1394ffa4cb9eb0826d",
        "IPY_MODEL_0245d169bba54170aa1516a75c7279b6",
        "IPY_MODEL_986eaa67e94f4f5cbde9eb3430937e29"
       ],
       "layout": "IPY_MODEL_a29ceb9655cf4aca8211995be8c6f6cd"
      }
     },
     "ec5f21b864f94204932473449f0f110f": {
      "model_module": "@jupyter-widgets/controls",
      "model_module_version": "1.5.0",
      "model_name": "HTMLModel",
      "state": {
       "_dom_classes": [],
       "_model_module": "@jupyter-widgets/controls",
       "_model_module_version": "1.5.0",
       "_model_name": "HTMLModel",
       "_view_count": null,
       "_view_module": "@jupyter-widgets/controls",
       "_view_module_version": "1.5.0",
       "_view_name": "HTMLView",
       "description": "",
       "description_tooltip": null,
       "layout": "IPY_MODEL_19e8204b7918431983376b91ae0d98f9",
       "placeholder": "​",
       "style": "IPY_MODEL_816ffd59c4564ff491e39ad6f715177d",
       "value": " 159571/159571 [00:59&lt;00:00, 2691.75it/s]"
      }
     },
     "f719fd0bbba5411493c90d610e217db0": {
      "model_module": "@jupyter-widgets/base",
      "model_module_version": "1.2.0",
      "model_name": "LayoutModel",
      "state": {
       "_model_module": "@jupyter-widgets/base",
       "_model_module_version": "1.2.0",
       "_model_name": "LayoutModel",
       "_view_count": null,
       "_view_module": "@jupyter-widgets/base",
       "_view_module_version": "1.2.0",
       "_view_name": "LayoutView",
       "align_content": null,
       "align_items": null,
       "align_self": null,
       "border": null,
       "bottom": null,
       "display": null,
       "flex": null,
       "flex_flow": null,
       "grid_area": null,
       "grid_auto_columns": null,
       "grid_auto_flow": null,
       "grid_auto_rows": null,
       "grid_column": null,
       "grid_gap": null,
       "grid_row": null,
       "grid_template_areas": null,
       "grid_template_columns": null,
       "grid_template_rows": null,
       "height": null,
       "justify_content": null,
       "justify_items": null,
       "left": null,
       "margin": null,
       "max_height": null,
       "max_width": null,
       "min_height": null,
       "min_width": null,
       "object_fit": null,
       "object_position": null,
       "order": null,
       "overflow": null,
       "overflow_x": null,
       "overflow_y": null,
       "padding": null,
       "right": null,
       "top": null,
       "visibility": null,
       "width": null
      }
     },
     "f83f8e452bd74834a8c5eea553b94eea": {
      "model_module": "@jupyter-widgets/controls",
      "model_module_version": "1.5.0",
      "model_name": "FloatProgressModel",
      "state": {
       "_dom_classes": [],
       "_model_module": "@jupyter-widgets/controls",
       "_model_module_version": "1.5.0",
       "_model_name": "FloatProgressModel",
       "_view_count": null,
       "_view_module": "@jupyter-widgets/controls",
       "_view_module_version": "1.5.0",
       "_view_name": "ProgressView",
       "bar_style": "success",
       "description": "",
       "description_tooltip": null,
       "layout": "IPY_MODEL_03d7ee5a237044aa8cec6ea55210782f",
       "max": 30108,
       "min": 0,
       "orientation": "horizontal",
       "style": "IPY_MODEL_b404d5e69e5444de92e8e21048a20da7",
       "value": 30108
      }
     },
     "fc18628c4eb34a139ea4dc443f0e9ec0": {
      "model_module": "@jupyter-widgets/base",
      "model_module_version": "1.2.0",
      "model_name": "LayoutModel",
      "state": {
       "_model_module": "@jupyter-widgets/base",
       "_model_module_version": "1.2.0",
       "_model_name": "LayoutModel",
       "_view_count": null,
       "_view_module": "@jupyter-widgets/base",
       "_view_module_version": "1.2.0",
       "_view_name": "LayoutView",
       "align_content": null,
       "align_items": null,
       "align_self": null,
       "border": null,
       "bottom": null,
       "display": null,
       "flex": null,
       "flex_flow": null,
       "grid_area": null,
       "grid_auto_columns": null,
       "grid_auto_flow": null,
       "grid_auto_rows": null,
       "grid_column": null,
       "grid_gap": null,
       "grid_row": null,
       "grid_template_areas": null,
       "grid_template_columns": null,
       "grid_template_rows": null,
       "height": null,
       "justify_content": null,
       "justify_items": null,
       "left": null,
       "margin": null,
       "max_height": null,
       "max_width": null,
       "min_height": null,
       "min_width": null,
       "object_fit": null,
       "object_position": null,
       "order": null,
       "overflow": null,
       "overflow_x": null,
       "overflow_y": null,
       "padding": null,
       "right": null,
       "top": null,
       "visibility": null,
       "width": null
      }
     },
     "feb96d83050c4e8e8adb65c9c29c32b6": {
      "model_module": "@jupyter-widgets/controls",
      "model_module_version": "1.5.0",
      "model_name": "HTMLModel",
      "state": {
       "_dom_classes": [],
       "_model_module": "@jupyter-widgets/controls",
       "_model_module_version": "1.5.0",
       "_model_name": "HTMLModel",
       "_view_count": null,
       "_view_module": "@jupyter-widgets/controls",
       "_view_module_version": "1.5.0",
       "_view_name": "HTMLView",
       "description": "",
       "description_tooltip": null,
       "layout": "IPY_MODEL_b1237d795845407395e92a966232fb73",
       "placeholder": "​",
       "style": "IPY_MODEL_904982f9501b4c54a7f1ddfd524cbcec",
       "value": "100%"
      }
     }
    },
    "version_major": 2,
    "version_minor": 0
   }
  }
 },
 "nbformat": 4,
 "nbformat_minor": 5
}
